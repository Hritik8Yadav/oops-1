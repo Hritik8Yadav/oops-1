{
 "cells": [
  {
   "cell_type": "code",
   "execution_count": null,
   "id": "0e68e0bf-10ac-489e-9073-b79a8385c4fe",
   "metadata": {},
   "outputs": [],
   "source": [
    "#Ans 1:Classes are blueprint of an object in programming.\n",
    "# such as we can think class as cars which defines all the types of cars in it.\n",
    "\n",
    "# Object is instance of a class which is actual real world entity.\n",
    "# such as object of class car can be a honda city."
   ]
  },
  {
   "cell_type": "code",
   "execution_count": null,
   "id": "b226af1e-338e-47e5-a5e9-0a159476a3fa",
   "metadata": {},
   "outputs": [],
   "source": [
    "#Ans 2: The four pillars of oops are:-\n",
    "# 1. Encapsulation\n",
    "# 2. Inheritance \n",
    "# 3. Polymorphism\n",
    "# 4. Abstraction"
   ]
  },
  {
   "cell_type": "code",
   "execution_count": 5,
   "id": "2815a10d-e5ff-479b-bd57-3ebe87175cbe",
   "metadata": {},
   "outputs": [
    {
     "name": "stdout",
     "output_type": "stream",
     "text": [
      "Brand :  audi\n",
      "Color :  black\n"
     ]
    }
   ],
   "source": [
    "#Ans 3: __init__ function is function which automatically execute whenever an object is created in the class.\n",
    "# it helps to create the variables of an object in a class dynamically.\n",
    "# Example\n",
    "class Cars:\n",
    "    def __init__(self,brand,color):\n",
    "        self.brand=brand\n",
    "        self.color=color\n",
    "    def print_var(self):\n",
    "        print(\"Brand : \", self.brand)\n",
    "        print(\"Color : \", self.color)\n",
    "audi=Cars(\"audi\",\"black\")\n",
    "audi.print_var()"
   ]
  },
  {
   "cell_type": "code",
   "execution_count": null,
   "id": "0d3db5c8-8efd-4063-8e78-669e1e49fbe7",
   "metadata": {},
   "outputs": [],
   "source": [
    "#Ans 4: Self is used to point out the method belong to the perticular class.\n",
    "# It points to the current object of the class.\n",
    "# self basically binds the method to the current class."
   ]
  },
  {
   "cell_type": "code",
   "execution_count": 7,
   "id": "9e1d6d58-2f7f-438e-a278-7787d198bd6e",
   "metadata": {},
   "outputs": [
    {
     "name": "stdout",
     "output_type": "stream",
     "text": [
      "This is parent\n"
     ]
    }
   ],
   "source": [
    "# Ans 5: Inheritance is the property in which a class can inherit some properties of the other class.\n",
    "# Inheritance increase the code reuasablity.\n",
    "# When using Inheritance on one class it is also valid for the subclasses.\n",
    "#Example of each type of inheritance: \n",
    "# 1.Single Inheritance:- '\n",
    "class parent:\n",
    "    def func(self):\n",
    "        print(\"This is parent\")\n",
    "class child(parent):\n",
    "    def func1():\n",
    "        print(\"This is child\")\n",
    "        \n",
    "c=child()\n",
    "c.func()"
   ]
  },
  {
   "cell_type": "code",
   "execution_count": null,
   "id": "7f5f7725-23c6-48db-ba3a-34208dcb8023",
   "metadata": {},
   "outputs": [],
   "source": [
    "#2. Multiple Inheritance:  multiple inheritance means that all of the properties and atribute of base class\n",
    "# is divided into the derived classs\n",
    "# 3. Hierarichial Inheritance: in this inheritance more then one derived class is created from the base class"
   ]
  }
 ],
 "metadata": {
  "kernelspec": {
   "display_name": "Python 3 (ipykernel)",
   "language": "python",
   "name": "python3"
  },
  "language_info": {
   "codemirror_mode": {
    "name": "ipython",
    "version": 3
   },
   "file_extension": ".py",
   "mimetype": "text/x-python",
   "name": "python",
   "nbconvert_exporter": "python",
   "pygments_lexer": "ipython3",
   "version": "3.10.8"
  }
 },
 "nbformat": 4,
 "nbformat_minor": 5
}
